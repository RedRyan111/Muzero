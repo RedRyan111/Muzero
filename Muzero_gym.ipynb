{
 "cells": [
  {
   "cell_type": "code",
   "execution_count": 1,
   "metadata": {},
   "outputs": [],
   "source": [
    "import numpy as np\n",
    "import math\n",
    "import random\n",
    "import torch\n",
    "import torch.nn as nn\n",
    "import networkx as nx\n",
    "#from networkx.drawing.nx_agraph import write_dot, graphviz_layout\n",
    "import torch.optim as optim\n",
    "from torch.autograd import Variable\n",
    "from torch.utils import data as t_data\n",
    "import torchvision.datasets as datasets\n",
    "import torch.nn.functional as Func\n",
    "from torch.nn.functional import conv2d\n",
    "from torchvision import transforms\n",
    "import matplotlib.pyplot as plt\n",
    "import gym\n",
    "from PIL import Image\n",
    "import time"
   ]
  },
  {
   "cell_type": "code",
   "execution_count": 2,
   "metadata": {},
   "outputs": [],
   "source": [
    "class representation_h(nn.Module):\n",
    "    def __init__(self,inp,out):\n",
    "        super(representation_h, self).__init__()\n",
    "        \n",
    "        #residual block 1\n",
    "        self.conv1 = nn.Conv2d(1, 5, kernel_size=1, stride=1)\n",
    "        self.conv11 = nn.Conv2d(6, 6, kernel_size=2, stride=2)\n",
    "        self.fc1 = nn.Linear(inp, inp)\n",
    "        \n",
    "        self.fc_main1 = nn.Linear(inp,out)\n",
    "        \n",
    "    def forward(self, board):\n",
    "        \n",
    "        act = nn.Sigmoid()\n",
    "        act1 = nn.ReLU()\n",
    "        \n",
    "        x1 = torch.FloatTensor(board)\n",
    "        x1_temp = act(self.conv1(x1))\n",
    "        x1 = torch.cat((x1_temp,x1),1)\n",
    "        x1 = act(self.conv11(x1))\n",
    "        x1 = x1.flatten()\n",
    "        x1 = self.fc1(x1)\n",
    "        \n",
    "        main = act1(self.fc_main1(x1))\n",
    "        \n",
    "        return main"
   ]
  },
  {
   "cell_type": "code",
   "execution_count": 3,
   "metadata": {},
   "outputs": [],
   "source": [
    "class prediction_f(nn.Module):\n",
    "    def __init__(self,f_inp,f_out1,f_out2):\n",
    "        super(prediction_f, self).__init__()\n",
    "        \n",
    "        self.fc1 = nn.Linear(f_inp, 50)\n",
    "        \n",
    "        self.fc2 = nn.Linear(50, f_out1)\n",
    "        \n",
    "        self.fc3 = nn.Linear(50, f_out2)\n",
    "        \n",
    "    def forward(self, state_rep):\n",
    "        \n",
    "        act = nn.Sigmoid()\n",
    "        act1 = nn.ReLU()\n",
    "        act2 = nn.Softmax(dim=0)\n",
    "        \n",
    "        x = act(self.fc1(state_rep))\n",
    "        \n",
    "        policy = act(self.fc2(x))\n",
    "        \n",
    "        v_value = act1(self.fc3(x))\n",
    "    \n",
    "        return policy,v_value"
   ]
  },
  {
   "cell_type": "code",
   "execution_count": 4,
   "metadata": {},
   "outputs": [],
   "source": [
    "class dynamic_g(nn.Module):\n",
    "    def __init__(self,inp1,inp2,out1,out2):\n",
    "        super(dynamic_g, self).__init__()\n",
    "        \n",
    "        self.fc1 = nn.Linear(inp1+inp2, 50)\n",
    "        \n",
    "        self.fc2 = nn.Linear(50, out1)\n",
    "        \n",
    "        self.fc3 = nn.Linear(50, out2)\n",
    "\n",
    "    def forward(self, state_rep, action):\n",
    "        \n",
    "        act = nn.Sigmoid()\n",
    "        act1 = nn.ReLU()\n",
    "        \n",
    "        state_rep = state_rep.flatten()\n",
    "        action = action.flatten()\n",
    "        x = torch.cat((state_rep,action),0)\n",
    "        \n",
    "        x = act(self.fc1(x))\n",
    "        \n",
    "        pred_state_rep = act(self.fc2(x))\n",
    "        \n",
    "        pred_reward = act1(self.fc3(x))\n",
    "    \n",
    "        return pred_state_rep,pred_reward"
   ]
  },
  {
   "cell_type": "code",
   "execution_count": 5,
   "metadata": {},
   "outputs": [],
   "source": [
    "class player:\n",
    "    def __init__(self):\n",
    "        self.Graph = nx.DiGraph()\n",
    "        \n",
    "        self.max_node_num = 0\n",
    "    \n",
    "    def build_tree(self,H,F,G,H_board,depth,f_out1):\n",
    "        \n",
    "        #Get available actions\n",
    "        #add edges and nodes\n",
    "        \n",
    "        root_state = H.forward(H_board)\n",
    "        policy,v_value = F.forward(root_state)\n",
    "        \n",
    "        node = 0\n",
    "        self.Graph.add_node(node,state=root_state,r = 0,policy = policy, v = v_value,N=1)\n",
    "        \n",
    "        turn = 1\n",
    "        \n",
    "        self.recurse_tree(H,F,G,root_state,node,depth,turn,f_out1)\n",
    "        \n",
    "    def recurse_tree(self,H,F,G,root_state,node,depth,turn,f_out1):\n",
    "        depth += -1  \n",
    "        \n",
    "        if(turn == 1):\n",
    "            turn = -1\n",
    "        elif(turn == -1):\n",
    "            turn = 1\n",
    "        \n",
    "        if(depth==0):\n",
    "            return    \n",
    "        \n",
    "        for i in range(2):\n",
    "            temp_node = node\n",
    "            #Get policy and  v_value\n",
    "            policy,v_value = F.forward(root_state)\n",
    "            \n",
    "            #interpret action from F\n",
    "            index = random.randint(0,len(policy)-1)\n",
    "            a_t = index_2_action(index,f_out1)\n",
    "            a_t = torch.FloatTensor(a_t)\n",
    "\n",
    "            #get new_state representation and predicted reward\n",
    "            new_state_rep, pred_reward = G.forward(root_state,a_t)      \n",
    "            \n",
    "            #check if action from state exists\n",
    "            prev_bool = False\n",
    "            temp_edge = []\n",
    "            for edge in self.Graph.out_edges(temp_node):\n",
    "                a = np.array(self.Graph.edges[edge]['action'])\n",
    "                b = np.array(index)\n",
    "                \n",
    "                if(np.array_equal(a,b)):\n",
    "                    prev_bool = True\n",
    "                    temp_edge = edge\n",
    "                    break     \n",
    "                    \n",
    "            #if edge doesn't exist, add node and edge to graph\n",
    "            if(not prev_bool):\n",
    "                self.Graph.add_node(self.max_node_num+1,N=1,state=new_state_rep,r=pred_reward,policy = policy, v = v_value)\n",
    "                self.Graph.add_edge(temp_node,self.max_node_num+1,action=index)  \n",
    "                self.max_node_num+=1\n",
    "                temp_node = self.max_node_num\n",
    "            else:\n",
    "                temp_node = temp_edge[1]\n",
    "                self.Graph.nodes[temp_node]['N']+=1\n",
    "            \n",
    "            #go to node\n",
    "            self.recurse_tree(H,F,G,new_state_rep,temp_node,depth,turn,f_out1)\n",
    "        return 0\n",
    "        "
   ]
  },
  {
   "cell_type": "code",
   "execution_count": null,
   "metadata": {},
   "outputs": [],
   "source": []
  },
  {
   "cell_type": "code",
   "execution_count": 6,
   "metadata": {},
   "outputs": [],
   "source": [
    "def Selection(Graph,node):\n",
    "    action = []\n",
    "    \n",
    "    stat_list = []\n",
    "    \n",
    "    #get policy from THIS node\n",
    "    edge_a = Graph.out_edges(node) \n",
    "    \n",
    "    #if leaf node, return action with highest v value\n",
    "    if(len(edge_a)==0):\n",
    "        act_list = nx.get_node_attributes(Graph,'policy')[node]\n",
    "        act_list = [[act_list[i],i] for i in range(len(act_list))]\n",
    "        act_list.sort(reverse=True)\n",
    "        #print(\"final q action sorted: \\n {} \\n\".format(act_list))\n",
    "        return act_list[0][1]\n",
    "    \n",
    "    for edge in edge_a:\n",
    "        index = np.array(Graph.edges[edge]['action'])\n",
    "        #print(\"node {} to {} with index: {}\".format(node,edge[1],index))\n",
    "    \n",
    "        # get P\n",
    "        next_P = nx.get_node_attributes(Graph,'policy')[node][index]\n",
    "        \n",
    "        #get next node\n",
    "        next_node = edge[1]\n",
    "    \n",
    "        #get state_rep of next node\n",
    "        #next_state_rep = nx.get_node_attributes(Graph,'state')[next_node]\n",
    "    \n",
    "        #get Q value given state\n",
    "        next_Q = nx.get_node_attributes(Graph,'v')[next_node]\n",
    "        \n",
    "        #get visit count of next node\n",
    "        next_N = nx.get_node_attributes(Graph,'N')[next_node]\n",
    "\n",
    "        #append to stat list\n",
    "        stat_list.append([next_Q,next_P,next_N,index])\n",
    "    \n",
    "    #choose max action\n",
    "    action = max_action(stat_list)\n",
    "    \n",
    "    \n",
    "    return action"
   ]
  },
  {
   "cell_type": "code",
   "execution_count": 7,
   "metadata": {},
   "outputs": [],
   "source": [
    "def max_action(stat_list):\n",
    "    \n",
    "    #print(stat_list[0][0])\n",
    "    #stat_list = stat_list[0]\n",
    "    \n",
    "    c1 = 1.25\n",
    "    c2 = 19652\n",
    "    \n",
    "    #get sum of N counts\n",
    "    N_b = 0\n",
    "    for stat in stat_list:\n",
    "        N_b += stat[2] \n",
    "    N_b = math.sqrt(N_b)\n",
    "    #print(\"N_b: {}\".format(N_b))\n",
    "    \n",
    "    #get index to policy from actions taken in the edges\n",
    "    action_q_list = []\n",
    "    temp = []\n",
    "    for stat in stat_list:\n",
    "        #print(\"{} + {} * {} * {}\".format(stat[0],stat[1],(N_b/(1+stat[2])),(c1 + math.log( (N_b + c2 + 1)/c2 ,10))))\n",
    "        action_q = stat[0] + stat[1]*(N_b/(1+stat[2]))*(c1 + math.log( (N_b + c2 + 1)/c2 ,10))\n",
    "        action_q_list.append([action_q,stat[3]])\n",
    "        temp.append(stat)\n",
    "        \n",
    "    index = 0\n",
    "    action = 0\n",
    "\n",
    "    #print(action_q_list)\n",
    "    \n",
    "    action_q_list.sort(reverse=True)\n",
    "\n",
    "    #print(action_q_list)\n",
    "\n",
    "    return action_q_list[0][1]"
   ]
  },
  {
   "cell_type": "code",
   "execution_count": 8,
   "metadata": {},
   "outputs": [],
   "source": [
    "#Selection(ship.Graph,0)"
   ]
  },
  {
   "cell_type": "code",
   "execution_count": 9,
   "metadata": {},
   "outputs": [],
   "source": [
    "def index_2_action(index,f_out1):\n",
    "    a_t = np.zeros(f_out1)\n",
    "    a_t[index] = 1\n",
    "    return a_t"
   ]
  },
  {
   "cell_type": "code",
   "execution_count": 10,
   "metadata": {},
   "outputs": [],
   "source": [
    "def get_z(reward_list,gamma):\n",
    "    z_list = []\n",
    "    \n",
    "    count = 0\n",
    "    for reward in reward_list:\n",
    "        z_list.append(reward*(gamma**count))\n",
    "    \n",
    "    return z_list"
   ]
  },
  {
   "cell_type": "code",
   "execution_count": 11,
   "metadata": {},
   "outputs": [],
   "source": [
    "def norm_q(Graph):\n",
    "    \n",
    "    \n",
    "    return 0"
   ]
  },
  {
   "cell_type": "code",
   "execution_count": 12,
   "metadata": {},
   "outputs": [],
   "source": [
    "def get_trajectory(Graph,node,action_list,value_list,policy_list,reward_list,f_out1):\n",
    "    #get root node\n",
    "    \n",
    "    #get action & append to action list\n",
    "    index = Selection(Graph,node)\n",
    "    action = index_2_action(index,f_out1)\n",
    "    action = torch.FloatTensor(action)\n",
    "    action_list.append(action)\n",
    "    \n",
    "    #get v_value and append to v_list\n",
    "    value = nx.get_node_attributes(Graph,'v')[node]\n",
    "    value = torch.FloatTensor(value)\n",
    "    value_list.append(value)\n",
    "    \n",
    "    #get policy and append to policy_list\n",
    "    policy = nx.get_node_attributes(Graph,'policy')[node]\n",
    "    policy = torch.FloatTensor(policy)\n",
    "    policy_list.append(policy)\n",
    "    \n",
    "    #get node out edges\n",
    "    edge_list = Graph.out_edges(node)\n",
    "    \n",
    "    #find which node to go to next\n",
    "    for edge in edge_list:\n",
    "        if(Graph.edges[edge]['action'] == index):\n",
    "            node = edge[1]\n",
    "            #get reward and append to reward_list\n",
    "            reward = nx.get_node_attributes(Graph,'r')[node]\n",
    "            reward = torch.FloatTensor(reward)\n",
    "            reward_list.append(reward)\n",
    "    \n",
    "    if(len(edge_list)==0):\n",
    "        return 0\n",
    "    \n",
    "    return get_trajectory(Graph,node,action_list,value_list,policy_list,reward_list,f_out1)"
   ]
  },
  {
   "cell_type": "code",
   "execution_count": 13,
   "metadata": {},
   "outputs": [],
   "source": [
    "def arr_2_action(array):\n",
    "    temp_list = list(array.detach())\n",
    "    maximum = max(temp_list)\n",
    "    return temp_list.index(maximum)"
   ]
  },
  {
   "cell_type": "markdown",
   "metadata": {},
   "source": [
    "## Testing NN's"
   ]
  },
  {
   "cell_type": "code",
   "execution_count": 14,
   "metadata": {},
   "outputs": [],
   "source": [
    "game_name = 'MsPacman-v0'\n",
    "env = gym.make(game_name)\n",
    "observation = env.reset()"
   ]
  },
  {
   "cell_type": "code",
   "execution_count": 15,
   "metadata": {},
   "outputs": [
    {
     "name": "stdout",
     "output_type": "stream",
     "text": [
      "8\n"
     ]
    }
   ],
   "source": [
    "print(env.action_space.sample())"
   ]
  },
  {
   "cell_type": "code",
   "execution_count": 16,
   "metadata": {},
   "outputs": [
    {
     "name": "stdout",
     "output_type": "stream",
     "text": [
      "(210, 160, 3)\n"
     ]
    }
   ],
   "source": [
    "print(observation.shape)"
   ]
  },
  {
   "cell_type": "code",
   "execution_count": 17,
   "metadata": {
    "scrolled": true
   },
   "outputs": [
    {
     "data": {
      "text/plain": [
       "<matplotlib.image.AxesImage at 0x7f007ec3e350>"
      ]
     },
     "execution_count": 17,
     "metadata": {},
     "output_type": "execute_result"
    },
    {
     "data": {
      "image/png": "[encoded data removed]",
      "text/plain": [
       "<Figure size 432x288 with 1 Axes>"
      ]
     },
     "metadata": {
      "needs_background": "light"
     },
     "output_type": "display_data"
    }
   ],
   "source": [
    "plt.imshow(observation)"
   ]
  },
  {
   "cell_type": "code",
   "execution_count": 18,
   "metadata": {},
   "outputs": [],
   "source": [
    "def perception(state):\n",
    "    sobel_x = torch.FloatTensor([[1,1,1],[1,1,1],[1,1,1]])\n",
    "    \n",
    "    sobel_x = sobel_x.view(1,1,3,3)\n",
    "    \n",
    "    grad_x = Func.conv2d(state, sobel_x,stride=2,padding=1)\n",
    "    \n",
    "    return grad_x"
   ]
  },
  {
   "cell_type": "code",
   "execution_count": 19,
   "metadata": {},
   "outputs": [
    {
     "name": "stdout",
     "output_type": "stream",
     "text": [
      "(210, 160)\n"
     ]
    },
    {
     "data": {
      "image/png": "[encoded data removed]",
      "text/plain": [
       "<Figure size 432x288 with 1 Axes>"
      ]
     },
     "metadata": {
      "needs_background": "light"
     },
     "output_type": "display_data"
    }
   ],
   "source": [
    "rgb_weights = [1,1,1]\n",
    "gray_img = np.dot(observation,rgb_weights)\n",
    "print(gray_img.shape)\n",
    "temp_obs = plt.imshow(gray_img,cmap=plt.get_cmap(\"gray\"))"
   ]
  },
  {
   "cell_type": "code",
   "execution_count": 20,
   "metadata": {},
   "outputs": [],
   "source": [
    "rgb_weights = [1,1,1]\n",
    "gray_img = np.dot(observation,rgb_weights)\n",
    "temp_obs = np.reshape(gray_img,(1,1,210,160))\n",
    "temp_obs1 = perception(torch.FloatTensor(temp_obs))\n",
    "temp_obs2 = perception(torch.FloatTensor(temp_obs1))"
   ]
  },
  {
   "cell_type": "code",
   "execution_count": 21,
   "metadata": {},
   "outputs": [
    {
     "name": "stdout",
     "output_type": "stream",
     "text": [
      "torch.Size([1, 1, 53, 40])\n"
     ]
    }
   ],
   "source": [
    "print(temp_obs2.shape)"
   ]
  },
  {
   "cell_type": "code",
   "execution_count": 22,
   "metadata": {},
   "outputs": [],
   "source": [
    "H_board = temp_obs2"
   ]
  },
  {
   "cell_type": "markdown",
   "metadata": {},
   "source": [
    "## Define Models"
   ]
  },
  {
   "cell_type": "code",
   "execution_count": 23,
   "metadata": {},
   "outputs": [],
   "source": [
    "h_inp = 3120    # size of hidden state after convolutions (made to make life easier)\n",
    "h_out = 20    # hidden state, can be any number based on model\n",
    "\n",
    "f_inp = 20    # h_out\n",
    "f_out1 = 9   # number of possible actions\n",
    "f_out2 = 1   # value of state\n",
    "\n",
    "g_inp1 = 20   #h_out\n",
    "g_inp2 = 9   #f_out1\n",
    "g_out1 = 20   #h_out\n",
    "g_out2 = 1"
   ]
  },
  {
   "cell_type": "code",
   "execution_count": 24,
   "metadata": {},
   "outputs": [],
   "source": [
    "H = representation_h(h_inp,h_out)\n",
    "F = prediction_f(f_inp,f_out1,f_out2)\n",
    "G = dynamic_g(g_inp1,g_inp2,g_out1,g_out2)"
   ]
  },
  {
   "cell_type": "markdown",
   "metadata": {},
   "source": [
    "## Data Pre-Processing"
   ]
  },
  {
   "cell_type": "code",
   "execution_count": 25,
   "metadata": {},
   "outputs": [],
   "source": [
    "def data_pre_proc(observation):\n",
    "    rgb_weights = [1,1,1]\n",
    "    gray_img = np.dot(observation,rgb_weights)\n",
    "    temp_obs = np.reshape(gray_img,(1,1,210,160))\n",
    "    temp_obs1 = perception(torch.FloatTensor(temp_obs))\n",
    "    temp_obs2 = perception(torch.FloatTensor(temp_obs1))  \n",
    "    return temp_obs2"
   ]
  },
  {
   "cell_type": "markdown",
   "metadata": {},
   "source": [
    "## Loss functions"
   ]
  },
  {
   "cell_type": "code",
   "execution_count": 26,
   "metadata": {},
   "outputs": [],
   "source": [
    "f_param = list(F.parameters())\n",
    "g_param = list(G.parameters())\n",
    "h_param = list(H.parameters())\n",
    "\n",
    "criterion_p = nn.MSELoss()\n",
    "optimizer_p = optim.Adam(f_param+g_param+h_param, lr=0.01)\n",
    "\n",
    "criterion_v = nn.MSELoss()\n",
    "optimizer_v = optim.Adam(f_param+g_param+h_param, lr=0.01)\n",
    "\n",
    "criterion_r = nn.MSELoss()\n",
    "optimizer_r = optim.Adam(g_param+h_param, lr=0.01)"
   ]
  },
  {
   "cell_type": "markdown",
   "metadata": {},
   "source": [
    "## Hyper-parameters"
   ]
  },
  {
   "cell_type": "code",
   "execution_count": 27,
   "metadata": {},
   "outputs": [],
   "source": [
    "Buffer = []\n",
    "loss_list = []\n",
    "game_name = 'Asteroids-v0'\n",
    "game_name = 'MsPacman-v0'\n",
    "gamma = .99\n",
    "epochs = 100\n",
    "steps = 1\n",
    "depth = 5"
   ]
  },
  {
   "cell_type": "markdown",
   "metadata": {},
   "source": [
    "## Train"
   ]
  },
  {
   "cell_type": "code",
   "execution_count": null,
   "metadata": {},
   "outputs": [
    {
     "name": "stdout",
     "output_type": "stream",
     "text": [
      "EPOCH 0\n",
      "tensor(0.9379, grad_fn=<AddBackward0>)\n",
      "EPOCH 1\n",
      "tensor(0.9690, grad_fn=<AddBackward0>)\n",
      "EPOCH 2\n",
      "tensor(0.9660, grad_fn=<AddBackward0>)\n",
      "EPOCH 3\n",
      "tensor(0.8982, grad_fn=<AddBackward0>)\n",
      "EPOCH 4\n",
      "tensor(0.9439, grad_fn=<AddBackward0>)\n",
      "EPOCH 5\n",
      "tensor(0.9577, grad_fn=<AddBackward0>)\n",
      "EPOCH 6\n",
      "tensor(0.9171, grad_fn=<AddBackward0>)\n",
      "EPOCH 7\n",
      "tensor(0.9261, grad_fn=<AddBackward0>)\n",
      "EPOCH 8\n",
      "tensor(0.9675, grad_fn=<AddBackward0>)\n",
      "EPOCH 9\n",
      "tensor(0.9210, grad_fn=<AddBackward0>)\n",
      "EPOCH 10\n",
      "tensor(0.9157, grad_fn=<AddBackward0>)\n",
      "EPOCH 11\n",
      "tensor(0.9316, grad_fn=<AddBackward0>)\n",
      "EPOCH 12\n",
      "tensor(0.8956, grad_fn=<AddBackward0>)\n",
      "EPOCH 13\n",
      "tensor(0.9182, grad_fn=<AddBackward0>)\n",
      "EPOCH 14\n",
      "tensor(0.8793, grad_fn=<AddBackward0>)\n",
      "EPOCH 15\n",
      "tensor(0.9147, grad_fn=<AddBackward0>)\n",
      "EPOCH 16\n",
      "tensor(0.9088, grad_fn=<AddBackward0>)\n",
      "EPOCH 17\n",
      "tensor(0.9283, grad_fn=<AddBackward0>)\n",
      "EPOCH 18\n",
      "tensor(0.8890, grad_fn=<AddBackward0>)\n",
      "EPOCH 19\n",
      "tensor(0.9176, grad_fn=<AddBackward0>)\n",
      "EPOCH 20\n",
      "tensor(0.9135, grad_fn=<AddBackward0>)\n",
      "EPOCH 21\n",
      "tensor(0.9450, grad_fn=<AddBackward0>)\n",
      "EPOCH 22\n",
      "tensor(0.9364, grad_fn=<AddBackward0>)\n",
      "EPOCH 23\n",
      "tensor(0.9182, grad_fn=<AddBackward0>)\n",
      "EPOCH 24\n",
      "tensor(0.9320, grad_fn=<AddBackward0>)\n",
      "EPOCH 25\n",
      "tensor(0.9019, grad_fn=<AddBackward0>)\n",
      "EPOCH 26\n",
      "tensor(0.9534, grad_fn=<AddBackward0>)\n",
      "EPOCH 27\n",
      "tensor(0.9186, grad_fn=<AddBackward0>)\n",
      "EPOCH 28\n",
      "tensor(0.9124, grad_fn=<AddBackward0>)\n",
      "EPOCH 29\n",
      "tensor(0.9364, grad_fn=<AddBackward0>)\n",
      "EPOCH 30\n",
      "tensor(0.9649, grad_fn=<AddBackward0>)\n",
      "EPOCH 31\n",
      "tensor(0.9315, grad_fn=<AddBackward0>)\n",
      "EPOCH 32\n",
      "tensor(0.9171, grad_fn=<AddBackward0>)\n",
      "EPOCH 33\n",
      "tensor(0.8960, grad_fn=<AddBackward0>)\n",
      "EPOCH 34\n",
      "tensor(0.9375, grad_fn=<AddBackward0>)\n",
      "EPOCH 35\n",
      "tensor(0.9261, grad_fn=<AddBackward0>)\n",
      "EPOCH 36\n",
      "tensor(0.9548, grad_fn=<AddBackward0>)\n",
      "EPOCH 37\n",
      "tensor(0.9591, grad_fn=<AddBackward0>)\n",
      "EPOCH 38\n",
      "tensor(0.9270, grad_fn=<AddBackward0>)\n",
      "EPOCH 39\n",
      "tensor(0.9585, grad_fn=<AddBackward0>)\n",
      "EPOCH 40\n",
      "tensor(0.9459, grad_fn=<AddBackward0>)\n",
      "EPOCH 41\n",
      "tensor(0.9524, grad_fn=<AddBackward0>)\n",
      "EPOCH 42\n",
      "tensor(0.9454, grad_fn=<AddBackward0>)\n",
      "EPOCH 43\n",
      "tensor(0.9364, grad_fn=<AddBackward0>)\n",
      "EPOCH 44\n",
      "tensor(0.9268, grad_fn=<AddBackward0>)\n",
      "EPOCH 45\n",
      "tensor(0.9037, grad_fn=<AddBackward0>)\n",
      "EPOCH 46\n",
      "tensor(0.9768, grad_fn=<AddBackward0>)\n",
      "EPOCH 47\n",
      "tensor(0.8987, grad_fn=<AddBackward0>)\n",
      "EPOCH 48\n"
     ]
    }
   ],
   "source": [
    "for epoch in range(epochs):\n",
    "    print(\"EPOCH {}\".format(epoch))\n",
    "    \n",
    "    #start game\n",
    "    env = gym.make(game_name)\n",
    "    observation = env.reset()\n",
    "    \n",
    "    #get players and state\n",
    "    ship = player()\n",
    " \n",
    "    #collect lists\n",
    "    policy_list = []\n",
    "    action_list = []\n",
    "\n",
    "    value_list = []\n",
    "    z_list = []\n",
    "\n",
    "    reward_list = []\n",
    "    imm_reward_list = []\n",
    "\n",
    "    done = 0\n",
    "    for i in range(100):\n",
    "        \n",
    "        #data preprocessing\n",
    "        H_board = data_pre_proc(observation)\n",
    "\n",
    "        #build tree\n",
    "        ship.build_tree(H,F,G,H_board,depth,f_out1)\n",
    "\n",
    "        #Find best move\n",
    "        action = get_trajectory(ship.Graph,0,action_list,value_list,policy_list,reward_list,f_out1)    \n",
    "        temp_depth = depth\n",
    "        for j in range(depth-1):\n",
    "            #take action\n",
    "            action = arr_2_action(action_list[j])\n",
    "            #env.render()\n",
    "            observation, reward, done, info = env.step(action)\n",
    "            imm_reward_list.append(reward)\n",
    "            if(done):\n",
    "                temp_depth = j\n",
    "                break\n",
    "        \n",
    "        z_list = get_z(imm_reward_list,gamma)\n",
    "        \n",
    "        if(done):\n",
    "            break\n",
    "        \n",
    "        #list checking\n",
    "        #print(\"z: {} v: {} \".format(len(z_list),len(value_list)))\n",
    "        #print(\"im_r: {} r: {}\".format(len(imm_reward_list),len(reward_list)))\n",
    "        #print(\"policy: {} action: {}\".format(len(policy_list),len(action_list)))\n",
    "    \n",
    "        #print(torch.FloatTensor([z_list[i]]))\n",
    "        \n",
    "    \n",
    "    #train\n",
    "    Total_loss = 0\n",
    "    for i in range(temp_depth-1):\n",
    "        policy_loss = criterion_p(action_list[i],policy_list[i])\n",
    "        value_loss = criterion_v(torch.FloatTensor([z_list[i]]),value_list[i])\n",
    "        reward_loss = criterion_r(torch.FloatTensor([imm_reward_list[i]]),reward_list[i])\n",
    "        Total_loss+= policy_loss + value_loss + reward_loss\n",
    "    \n",
    "    optimizer_p.step()\n",
    "    optimizer_v.step()\n",
    "    optimizer_r.step()\n",
    "    \n",
    "    loss_list.append(Total_loss)   \n",
    "    env.close()\n",
    "    print(Total_loss)"
   ]
  },
  {
   "cell_type": "code",
   "execution_count": null,
   "metadata": {},
   "outputs": [],
   "source": [
    "plt.plot([i for i in range(len(loss_list))],loss_list)"
   ]
  },
  {
   "cell_type": "code",
   "execution_count": null,
   "metadata": {},
   "outputs": [],
   "source": [
    "done = 0\n",
    "while(done == False):\n",
    "\n",
    "    #data preprocessing\n",
    "    H_board = data_pre_proc(observation)\n",
    "\n",
    "    #build tree\n",
    "    ship.build_tree(H,F,G,H_board,depth,f_out1)\n",
    "\n",
    "    #Find best move\n",
    "    action = get_trajectory(ship.Graph,0,action_list,value_list,policy_list,reward_list,f_out1)   \n",
    "    \n",
    "    env.render()\n",
    "    time.sleep(.01)\n",
    "    observation, reward, done, info = env.step(action)\n",
    "    \n",
    "    if(done):\n",
    "        env.close()\n",
    "        break\n"
   ]
  },
  {
   "cell_type": "code",
   "execution_count": null,
   "metadata": {},
   "outputs": [],
   "source": []
  }
 ],
 "metadata": {
  "kernelspec": {
   "display_name": "Python 3",
   "language": "python",
   "name": "python3"
  },
  "language_info": {
   "codemirror_mode": {
    "name": "ipython",
    "version": 3
   },
   "file_extension": ".py",
   "mimetype": "text/x-python",
   "name": "python",
   "nbconvert_exporter": "python",
   "pygments_lexer": "ipython3",
   "version": "3.7.5"
  }
 },
 "nbformat": 4,
 "nbformat_minor": 4
}
